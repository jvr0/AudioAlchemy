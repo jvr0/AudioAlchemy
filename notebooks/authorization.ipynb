{
 "cells": [
  {
   "cell_type": "code",
   "execution_count": null,
   "metadata": {},
   "outputs": [],
   "source": [
    "import sys\n",
    "import time\n",
    "import json\n",
    "import numpy as np\n",
    "import pandas as pd\n",
    "import requests as req\n",
    "from requests_oauthlib import OAuth1"
   ]
  },
  {
   "cell_type": "markdown",
   "metadata": {},
   "source": [
    "El siguiente notebook ha sido utilizado para la necesaria validación de la app creada en el entorno para desarrolladores de la API de Discgos. Tras la creación de la app en Discogs fue necesario la validación de la misma ya que las credenciales proporcionadas por la plataforma solo permitian un acceeso limitado y el objetivo final de este proyecto necesitaba la totalidad de los permisos proporcionados por la API.\n",
    "\n",
    "**índice**\n",
    "1. Obtención del request token\n",
    "2. Autorización de la aplicación usando seguridad FP2\n",
    "3. Intercambio del request token por access token"
   ]
  },
  {
   "cell_type": "markdown",
   "metadata": {},
   "source": [
    "### 1. Obtención del request token"
   ]
  },
  {
   "cell_type": "code",
   "execution_count": null,
   "metadata": {},
   "outputs": [],
   "source": [
    "sys.path.append('..')\n",
    "\n",
    "from config import *"
   ]
  },
  {
   "cell_type": "code",
   "execution_count": null,
   "metadata": {},
   "outputs": [],
   "source": [
    "k = key\n",
    "s = secret"
   ]
  },
  {
   "cell_type": "code",
   "execution_count": null,
   "metadata": {},
   "outputs": [],
   "source": [
    "# Obtención de las primeras contraseñas (request token)\n",
    "oauth = OAuth1(k, client_secret=s)\n",
    "\n",
    "url = 'https://api.discogs.com/oauth/request_token'\n",
    "\n",
    "res = req.post(url, auth=oauth)\n",
    "\n",
    "cred = res.text.split('&')\n",
    "oauth_token = cred[0].split('=')[1]\n",
    "oauth_token_secret = cred[1].split('=')[1]"
   ]
  },
  {
   "cell_type": "markdown",
   "metadata": {},
   "source": [
    "### 2. Autorización de la aplicación usando seguridad FP2\n"
   ]
  },
  {
   "cell_type": "code",
   "execution_count": null,
   "metadata": {},
   "outputs": [],
   "source": [
    "# Acceder al link para introducir seguridad FP2 y autorizar app\n",
    "authorize_url = f'https://www.discogs.com/oauth/authorize?oauth_token={oauth_token}'\n",
    "print(\"Authorize your application by visiting:\", authorize_url)\n",
    "oauth_verifier = input(\"Enter oauth_verifier from the redirected URL: \")"
   ]
  },
  {
   "cell_type": "markdown",
   "metadata": {},
   "source": [
    "### 3. Intercambio del request token por access token"
   ]
  },
  {
   "cell_type": "code",
   "execution_count": null,
   "metadata": {},
   "outputs": [],
   "source": [
    "'''\n",
    "Acceso al token a través de la nueva seguridad y app validadas\n",
    "Con la APP validada se accede al último endpoint para que se nos den las credenciales finales que permiten el\n",
    "acceso a todos los servicios \n",
    "'''\n",
    "\n",
    "consumer_key = key\n",
    "consumer_secret = secret\n",
    "oauth_token = oauth_token\n",
    "oauth_token_secret = oauth_token_secret\n",
    "oauth_verifier = oauth_verifier\n",
    "\n",
    "# OAuth1\n",
    "oauth = OAuth1(\n",
    "    consumer_key,\n",
    "    client_secret=consumer_secret,\n",
    "    resource_owner_key=oauth_token,\n",
    "    resource_owner_secret=oauth_token_secret,\n",
    "    verifier=oauth_verifier\n",
    ")\n",
    "\n",
    "access_token_url = 'https://api.discogs.com/oauth/access_token'\n",
    "response = req.post(access_token_url, auth=oauth)\n",
    "response"
   ]
  },
  {
   "cell_type": "code",
   "execution_count": null,
   "metadata": {},
   "outputs": [],
   "source": [
    "#obtención de credenciales finales\n",
    "access_credentials = response.text.split('&')\n",
    "access_oauth_token = access_credentials[0].split('=')[1]\n",
    "access_oauth_token_secret = access_credentials[1].split('=')[1]"
   ]
  },
  {
   "cell_type": "code",
   "execution_count": null,
   "metadata": {},
   "outputs": [],
   "source": [
    "access_oauth_token"
   ]
  },
  {
   "cell_type": "code",
   "execution_count": null,
   "metadata": {},
   "outputs": [],
   "source": [
    "access_oauth_token_secret"
   ]
  }
 ],
 "metadata": {
  "kernelspec": {
   "display_name": "Python 3",
   "language": "python",
   "name": "python3"
  },
  "language_info": {
   "codemirror_mode": {
    "name": "ipython",
    "version": 3
   },
   "file_extension": ".py",
   "mimetype": "text/x-python",
   "name": "python",
   "nbconvert_exporter": "python",
   "pygments_lexer": "ipython3",
   "version": "3.12.0"
  }
 },
 "nbformat": 4,
 "nbformat_minor": 2
}
