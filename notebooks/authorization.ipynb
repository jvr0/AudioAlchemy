{
 "cells": [
  {
   "cell_type": "code",
   "execution_count": null,
   "metadata": {},
   "outputs": [],
   "source": [
    "import sys\n",
    "import time\n",
    "import json\n",
    "import numpy as np\n",
    "import pandas as pd\n",
    "import requests as req\n",
    "from requests_oauthlib import OAuth1"
   ]
  },
  {
   "cell_type": "markdown",
   "metadata": {},
   "source": [
    "### 1. Obtain request token"
   ]
  },
  {
   "cell_type": "code",
   "execution_count": null,
   "metadata": {},
   "outputs": [],
   "source": [
    "sys.path.append('..')\n",
    "\n",
    "from config import *"
   ]
  },
  {
   "cell_type": "code",
   "execution_count": null,
   "metadata": {},
   "outputs": [],
   "source": [
    "k = key\n",
    "s = secret"
   ]
  },
  {
   "cell_type": "code",
   "execution_count": null,
   "metadata": {},
   "outputs": [],
   "source": [
    "oauth = OAuth1(k, client_secret=s)\n",
    "\n",
    "url = 'https://api.discogs.com/oauth/request_token'\n",
    "\n",
    "res = req.post(url, auth=oauth)\n",
    "\n",
    "cred = res.text.split('&')\n",
    "oauth_token = cred[0].split('=')[1]\n",
    "oauth_token_secret = cred[1].split('=')[1]"
   ]
  },
  {
   "cell_type": "markdown",
   "metadata": {},
   "source": [
    "### 2. Authorize your application\n"
   ]
  },
  {
   "cell_type": "code",
   "execution_count": null,
   "metadata": {},
   "outputs": [],
   "source": [
    "authorize_url = f'https://www.discogs.com/oauth/authorize?oauth_token={oauth_token}'\n",
    "print(\"Authorize your application by visiting:\", authorize_url)\n",
    "oauth_verifier = input(\"Enter oauth_verifier from the redirected URL: \")"
   ]
  },
  {
   "cell_type": "markdown",
   "metadata": {},
   "source": [
    "### 3. Exchange request token for access token "
   ]
  },
  {
   "cell_type": "code",
   "execution_count": null,
   "metadata": {},
   "outputs": [],
   "source": [
    "consumer_key = key\n",
    "consumer_secret = secret\n",
    "oauth_token = oauth_token\n",
    "oauth_token_secret = oauth_token_secret\n",
    "oauth_verifier = oauth_verifier\n",
    "\n",
    "# OAuth1 session\n",
    "oauth = OAuth1(\n",
    "    consumer_key,\n",
    "    client_secret=consumer_secret,\n",
    "    resource_owner_key=oauth_token,\n",
    "    resource_owner_secret=oauth_token_secret,\n",
    "    verifier=oauth_verifier\n",
    ")\n",
    "\n",
    "# Make a POST request to exchange tokens\n",
    "access_token_url = 'https://api.discogs.com/oauth/access_token'\n",
    "response = req.post(access_token_url, auth=oauth)\n",
    "response"
   ]
  },
  {
   "cell_type": "code",
   "execution_count": null,
   "metadata": {},
   "outputs": [],
   "source": [
    "# Extract oauth_token and oauth_token_secret from the response\n",
    "access_credentials = response.text.split('&')\n",
    "access_oauth_token = access_credentials[0].split('=')[1]\n",
    "access_oauth_token_secret = access_credentials[1].split('=')[1]"
   ]
  },
  {
   "cell_type": "code",
   "execution_count": null,
   "metadata": {},
   "outputs": [],
   "source": [
    "access_oauth_token"
   ]
  },
  {
   "cell_type": "code",
   "execution_count": null,
   "metadata": {},
   "outputs": [],
   "source": [
    "access_oauth_token_secret"
   ]
  }
 ],
 "metadata": {
  "kernelspec": {
   "display_name": "Python 3",
   "language": "python",
   "name": "python3"
  },
  "language_info": {
   "codemirror_mode": {
    "name": "ipython",
    "version": 3
   },
   "file_extension": ".py",
   "mimetype": "text/x-python",
   "name": "python",
   "nbconvert_exporter": "python",
   "pygments_lexer": "ipython3",
   "version": "3.12.0"
  }
 },
 "nbformat": 4,
 "nbformat_minor": 2
}
