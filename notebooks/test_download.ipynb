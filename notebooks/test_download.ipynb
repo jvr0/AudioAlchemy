{
 "cells": [
  {
   "cell_type": "code",
   "execution_count": 1,
   "metadata": {},
   "outputs": [],
   "source": [
    "import sys\n",
    "import pandas as pd\n",
    "import requests as req\n",
    "from requests_oauthlib import OAuth1 \n",
    "\n",
    "import zipfile\n",
    "import io\n",
    "\n",
    "sys.path.append('..')\n",
    "\n",
    "from config import *\n",
    "\n",
    "oauth = OAuth1(\n",
    "        key,\n",
    "        client_secret=secret,\n",
    "        resource_owner_key=access_oauth_token,\n",
    "        resource_owner_secret=access_oauth_token_secret)"
   ]
  },
  {
   "cell_type": "markdown",
   "metadata": {},
   "source": [
    "### 1. obtención del último inventario creado"
   ]
  },
  {
   "cell_type": "code",
   "execution_count": 2,
   "metadata": {},
   "outputs": [
    {
     "name": "stdout",
     "output_type": "stream",
     "text": [
      "2023-09-28T07:56:30\n"
     ]
    }
   ],
   "source": [
    "# llamada para el id del último inventario exportado y se printea la fecha de creación del mismo\n",
    "\n",
    "url = 'https://api.discogs.com/inventory/export'\n",
    "res = req.get(url, auth=oauth)\n",
    "\n",
    "url_inv= res.json()['items'][0]['download_url']\n",
    "\n",
    "print(res.json()['items'][0]['created_ts'])"
   ]
  },
  {
   "cell_type": "markdown",
   "metadata": {},
   "source": [
    "### 2. descargamos ZIP"
   ]
  },
  {
   "cell_type": "code",
   "execution_count": 3,
   "metadata": {},
   "outputs": [],
   "source": [
    "# descarga del archivo\n",
    "\n",
    "res = req.get(url_inv, auth=oauth)"
   ]
  },
  {
   "cell_type": "markdown",
   "metadata": {},
   "source": [
    "### 3. convertimos a csv"
   ]
  },
  {
   "cell_type": "code",
   "execution_count": 4,
   "metadata": {},
   "outputs": [
    {
     "name": "stdout",
     "output_type": "stream",
     "text": [
      "CSV guardado cómo: 'inventario.csv'\n"
     ]
    }
   ],
   "source": [
    "# escritura del archivo\n",
    "\n",
    "if res.status_code == 200:\n",
    "    zip_file = zipfile.ZipFile(io.BytesIO(res.content))\n",
    "\n",
    "    # guardamos nombre del archivo dentro del ZIP\n",
    "    csv_file = zip_file.namelist()[0]\n",
    "\n",
    "    csv_data = zip_file.read(csv_file).decode('utf-8')\n",
    "\n",
    "    # guardamos el archivo csv\n",
    "    with open('../data/inventario.csv', 'w', encoding='utf-8') as f:\n",
    "        f.write(csv_data)\n",
    "    print(\"CSV guardado cómo: 'inventario.csv'\")\n",
    "else:\n",
    "    print('algo va mal', res.status_code)"
   ]
  }
 ],
 "metadata": {
  "kernelspec": {
   "display_name": "Python 3",
   "language": "python",
   "name": "python3"
  },
  "language_info": {
   "codemirror_mode": {
    "name": "ipython",
    "version": 3
   },
   "file_extension": ".py",
   "mimetype": "text/x-python",
   "name": "python",
   "nbconvert_exporter": "python",
   "pygments_lexer": "ipython3",
   "version": "3.12.0"
  }
 },
 "nbformat": 4,
 "nbformat_minor": 2
}
