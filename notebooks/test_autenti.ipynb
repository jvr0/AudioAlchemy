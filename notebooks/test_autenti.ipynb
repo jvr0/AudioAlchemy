{
 "cells": [
  {
   "cell_type": "code",
   "execution_count": 1,
   "metadata": {},
   "outputs": [
    {
     "data": {
      "text/plain": [
       "<Response [200]>"
      ]
     },
     "execution_count": 1,
     "metadata": {},
     "output_type": "execute_result"
    }
   ],
   "source": [
    "import sys\n",
    "import pandas as pd\n",
    "import requests as req\n",
    "from requests_oauthlib import OAuth1 \n",
    "\n",
    "sys.path.append('..')\n",
    "\n",
    "from config import *\n",
    "\n",
    "oauth = OAuth1(\n",
    "        key,\n",
    "        client_secret=secret,\n",
    "        resource_owner_key=access_oauth_token,\n",
    "        resource_owner_secret=access_oauth_token_secret)\n",
    "\n",
    "url = f'https://api.discogs.com/oauth/identity'\n",
    "res = req.get(url, auth=oauth)\n",
    "res"
   ]
  },
  {
   "cell_type": "code",
   "execution_count": 2,
   "metadata": {},
   "outputs": [
    {
     "data": {
      "text/plain": [
       "{'id': 6253402,\n",
       " 'username': 'ElArticoDiscos',\n",
       " 'resource_url': 'https://api.discogs.com/users/ElArticoDiscos',\n",
       " 'consumer_name': 'testgenkey'}"
      ]
     },
     "execution_count": 2,
     "metadata": {},
     "output_type": "execute_result"
    }
   ],
   "source": [
    "res.json()"
   ]
  }
 ],
 "metadata": {
  "kernelspec": {
   "display_name": "Python 3",
   "language": "python",
   "name": "python3"
  },
  "language_info": {
   "codemirror_mode": {
    "name": "ipython",
    "version": 3
   },
   "file_extension": ".py",
   "mimetype": "text/x-python",
   "name": "python",
   "nbconvert_exporter": "python",
   "pygments_lexer": "ipython3",
   "version": "3.12.0"
  }
 },
 "nbformat": 4,
 "nbformat_minor": 2
}
