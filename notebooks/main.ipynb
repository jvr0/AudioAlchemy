{
 "cells": [
  {
   "cell_type": "markdown",
   "metadata": {},
   "source": [
    "Clave del cliente\tbPCdorpDXlahuSMVTTIj\n",
    "Información secreta del cliente\tJyUZVgQjOYgNIQhvubdHGgcjGbMOGauV\n",
    "Petición de autentificador de URL\thttps://api.discogs.com/oauth/request_token\n",
    "Autorizar URL\thttps://www.discogs.com/es/oauth/authorize\n",
    "Acceso al símbolo URL\thttps://api.discogs.com/oauth/access_token"
   ]
  },
  {
   "cell_type": "code",
   "execution_count": 25,
   "metadata": {},
   "outputs": [],
   "source": [
    "import sys\n",
    "import time\n",
    "import json\n",
    "import numpy as np\n",
    "import pandas as pd\n",
    "import requests as req "
   ]
  },
  {
   "cell_type": "code",
   "execution_count": 38,
   "metadata": {},
   "outputs": [],
   "source": [
    "from config import key , secret\n",
    "\n",
    "k = key\n",
    "s = secret\n",
    "#username = 'elarticodiscos'\n",
    "d = 'https://api.discogs.com/'\n",
    "\n",
    "headers = {\n",
    "    'Authorization': f'Discogs key={k}, secret={s}',\n",
    "    'User-Agent': 'testgenkey'}"
   ]
  },
  {
   "cell_type": "code",
   "execution_count": 44,
   "metadata": {},
   "outputs": [
    {
     "data": {
      "text/plain": [
       "{'message': 'User does not exist or may have been deleted.'}"
      ]
     },
     "execution_count": 44,
     "metadata": {},
     "output_type": "execute_result"
    }
   ],
   "source": [
    "url = 'https://api.discogs.com/users/{testgenkey}/inventory'\n",
    "res = req.get(url, headers=headers)\n",
    "res.json()"
   ]
  }
 ],
 "metadata": {
  "kernelspec": {
   "display_name": "Python 3",
   "language": "python",
   "name": "python3"
  },
  "language_info": {
   "codemirror_mode": {
    "name": "ipython",
    "version": 3
   },
   "file_extension": ".py",
   "mimetype": "text/x-python",
   "name": "python",
   "nbconvert_exporter": "python",
   "pygments_lexer": "ipython3",
   "version": "3.12.0"
  }
 },
 "nbformat": 4,
 "nbformat_minor": 2
}
