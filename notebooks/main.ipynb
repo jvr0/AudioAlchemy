{
 "cells": [
  {
   "cell_type": "code",
   "execution_count": 1,
   "metadata": {},
   "outputs": [],
   "source": [
    "import sys\n",
    "import time\n",
    "\n",
    "sys.path.append('../src')\n",
    "\n",
    "from support_API import *"
   ]
  },
  {
   "cell_type": "code",
   "execution_count": 2,
   "metadata": {},
   "outputs": [
    {
     "data": {
      "text/plain": [
       "'Success: 200'"
      ]
     },
     "execution_count": 2,
     "metadata": {},
     "output_type": "execute_result"
    }
   ],
   "source": [
    "autentificacion()"
   ]
  },
  {
   "cell_type": "code",
   "execution_count": 7,
   "metadata": {},
   "outputs": [
    {
     "name": "stdout",
     "output_type": "stream",
     "text": [
      "File was successfully saved\n",
      "12800    1761548557\n",
      "49836    1407900358\n",
      "Name: listing_id, dtype: int64\n",
      "Successful update 200\n",
      "File was successfully saved\n",
      "19312    1942016045\n",
      "30115    1887923248\n",
      "Name: listing_id, dtype: int64\n",
      "Successful update 200\n"
     ]
    }
   ],
   "source": [
    "for i in range(2):\n",
    "\n",
    "    time.sleep(2)\n",
    "\n",
    "    modificacion()\n",
    "\n",
    "    time.sleep(1)\n",
    "\n",
    "    lanzamiento()"
   ]
  }
 ],
 "metadata": {
  "kernelspec": {
   "display_name": "Python 3",
   "language": "python",
   "name": "python3"
  },
  "language_info": {
   "codemirror_mode": {
    "name": "ipython",
    "version": 3
   },
   "file_extension": ".py",
   "mimetype": "text/x-python",
   "name": "python",
   "nbconvert_exporter": "python",
   "pygments_lexer": "ipython3",
   "version": "3.12.0"
  }
 },
 "nbformat": 4,
 "nbformat_minor": 2
}
