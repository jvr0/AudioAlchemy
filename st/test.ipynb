{
 "cells": [
  {
   "cell_type": "code",
   "execution_count": 1,
   "metadata": {},
   "outputs": [],
   "source": [
    "import pandas as pd\n",
    "import numpy as np\n",
    "import matplotlib.pyplot as plt\n",
    "import seaborn as sns\n",
    "import sys\n",
    "sys.path.append('../src/')\n",
    "from support_st import *"
   ]
  },
  {
   "cell_type": "code",
   "execution_count": 2,
   "metadata": {},
   "outputs": [],
   "source": [
    "df = df = pd.read_csv('../data/inventario.csv')\n",
    "df = df[df.status == 'For Sale']"
   ]
  },
  {
   "cell_type": "code",
   "execution_count": 3,
   "metadata": {},
   "outputs": [
    {
     "ename": "AttributeError",
     "evalue": "module 'matplotlib' has no attribute 'subplots'",
     "output_type": "error",
     "traceback": [
      "\u001b[0;31m---------------------------------------------------------------------------\u001b[0m",
      "\u001b[0;31mAttributeError\u001b[0m                            Traceback (most recent call last)",
      "\u001b[1;32m/Users/joaquin/Developer/AudioAlchemy/st/test.ipynb Celda 3\u001b[0m line \u001b[0;36m5\n\u001b[1;32m     <a href='vscode-notebook-cell:/Users/joaquin/Developer/AudioAlchemy/st/test.ipynb#W6sZmlsZQ%3D%3D?line=46'>47</a>\u001b[0m     \u001b[39m# Mostrar el gráfico\u001b[39;00m\n\u001b[1;32m     <a href='vscode-notebook-cell:/Users/joaquin/Developer/AudioAlchemy/st/test.ipynb#W6sZmlsZQ%3D%3D?line=47'>48</a>\u001b[0m     plt\u001b[39m.\u001b[39mshow()\n\u001b[0;32m---> <a href='vscode-notebook-cell:/Users/joaquin/Developer/AudioAlchemy/st/test.ipynb#W6sZmlsZQ%3D%3D?line=49'>50</a>\u001b[0m graficazo()\n",
      "\u001b[1;32m/Users/joaquin/Developer/AudioAlchemy/st/test.ipynb Celda 3\u001b[0m line \u001b[0;36m9\n\u001b[1;32m      <a href='vscode-notebook-cell:/Users/joaquin/Developer/AudioAlchemy/st/test.ipynb#W6sZmlsZQ%3D%3D?line=5'>6</a>\u001b[0m top_10_sellos \u001b[39m=\u001b[39m df[\u001b[39m'\u001b[39m\u001b[39mlabel\u001b[39m\u001b[39m'\u001b[39m]\u001b[39m.\u001b[39mvalue_counts()\u001b[39m.\u001b[39mhead(\u001b[39m10\u001b[39m)\n\u001b[1;32m      <a href='vscode-notebook-cell:/Users/joaquin/Developer/AudioAlchemy/st/test.ipynb#W6sZmlsZQ%3D%3D?line=7'>8</a>\u001b[0m \u001b[39m# Crear figura y ejes para el gráfico\u001b[39;00m\n\u001b[0;32m----> <a href='vscode-notebook-cell:/Users/joaquin/Developer/AudioAlchemy/st/test.ipynb#W6sZmlsZQ%3D%3D?line=8'>9</a>\u001b[0m fig, ax \u001b[39m=\u001b[39m plt\u001b[39m.\u001b[39;49msubplots(figsize\u001b[39m=\u001b[39m(\u001b[39m10\u001b[39m, \u001b[39m6\u001b[39m))\n\u001b[1;32m     <a href='vscode-notebook-cell:/Users/joaquin/Developer/AudioAlchemy/st/test.ipynb#W6sZmlsZQ%3D%3D?line=10'>11</a>\u001b[0m \u001b[39m# Calcular el rango de valores para el eje y\u001b[39;00m\n\u001b[1;32m     <a href='vscode-notebook-cell:/Users/joaquin/Developer/AudioAlchemy/st/test.ipynb#W6sZmlsZQ%3D%3D?line=11'>12</a>\u001b[0m y_values \u001b[39m=\u001b[39m \u001b[39mrange\u001b[39m(\u001b[39m10\u001b[39m)\n",
      "File \u001b[0;32m/Library/Frameworks/Python.framework/Versions/3.12/lib/python3.12/site-packages/matplotlib/_api/__init__.py:217\u001b[0m, in \u001b[0;36mcaching_module_getattr.<locals>.__getattr__\u001b[0;34m(name)\u001b[0m\n\u001b[1;32m    215\u001b[0m \u001b[39mif\u001b[39;00m name \u001b[39min\u001b[39;00m props:\n\u001b[1;32m    216\u001b[0m     \u001b[39mreturn\u001b[39;00m props[name]\u001b[39m.\u001b[39m\u001b[39m__get__\u001b[39m(instance)\n\u001b[0;32m--> 217\u001b[0m \u001b[39mraise\u001b[39;00m \u001b[39mAttributeError\u001b[39;00m(\n\u001b[1;32m    218\u001b[0m     \u001b[39mf\u001b[39m\u001b[39m\"\u001b[39m\u001b[39mmodule \u001b[39m\u001b[39m{\u001b[39;00m\u001b[39mcls\u001b[39m\u001b[39m.\u001b[39m\u001b[39m__module__\u001b[39m\u001b[39m!r}\u001b[39;00m\u001b[39m has no attribute \u001b[39m\u001b[39m{\u001b[39;00mname\u001b[39m!r}\u001b[39;00m\u001b[39m\"\u001b[39m)\n",
      "\u001b[0;31mAttributeError\u001b[0m: module 'matplotlib' has no attribute 'subplots'"
     ]
    }
   ],
   "source": [
    "def graficazo():\n",
    "\n",
    "    # Obtener los 10 artistas y sellos discográficos más frecuentes\n",
    "    conteo_artistas = df['artist'].value_counts().head(11)\n",
    "    top_10_artistas = conteo_artistas[1:]\n",
    "    top_10_sellos = df['label'].value_counts().head(10)\n",
    "\n",
    "    # Crear figura y ejes para el gráfico\n",
    "    fig, ax = plt.subplots(figsize=(10, 6))\n",
    "\n",
    "    # Calcular el rango de valores para el eje y\n",
    "    y_values = range(10)\n",
    "\n",
    "    # Escalar los valores para el eje x proporcionalmente\n",
    "    max_value = max(top_10_artistas.values.max(), top_10_sellos.values.max())\n",
    "    scaled_artistas = top_10_artistas.values * max_value / top_10_artistas.values.max()\n",
    "    scaled_sellos = top_10_sellos.values * max_value / top_10_sellos.values.max()\n",
    "\n",
    "    # Graficar las barras de los artistas hacia la derecha\n",
    "    bars_artistas = ax.barh(y_values, scaled_artistas, color='skyblue', align='center', label='Top 10 Artistas')\n",
    "\n",
    "    # Graficar las barras de los sellos hacia la izquierda (negativo)\n",
    "    bars_sellos = ax.barh(y_values, -scaled_sellos, color='orange', align='center', label='Top 10 Sellos Discográficos')\n",
    "\n",
    "    # Configuración de etiquetas y título\n",
    "    ax.set_yticks(y_values)\n",
    "    ax.set_yticklabels(top_10_artistas.index)\n",
    "    ax.set_xlabel('Frecuencia (escala proporcional)')\n",
    "    ax.set_title('Top 10 Artistas y Sellos Discográficos más Frecuentes')\n",
    "\n",
    "    # Ocultar el eje x\n",
    "    ax.xaxis.set_visible(False)\n",
    "    ax.yaxis.set_visible(False)\n",
    "\n",
    "    # Mostrar el nombre del artista y el recuento en las barras de artistas\n",
    "    for i, bar in enumerate(bars_artistas):\n",
    "        ax.text(bar.get_width(), bar.get_y() + bar.get_height() / 2, \n",
    "                f'{top_10_artistas.index[i]} ({top_10_artistas.values[i]})', \n",
    "                va='center', ha='left', color='black', fontsize=8)\n",
    "\n",
    "    # Mostrar el nombre del sello discográfico en las barras de sellos\n",
    "    for i, bar in enumerate(bars_sellos):\n",
    "        ax.text(bar.get_width(), bar.get_y() + bar.get_height() / 2, \n",
    "                f'{top_10_sellos.index[i]} ({top_10_sellos.values[i]})', \n",
    "                va='center', ha='right', color='black', fontsize=8)\n",
    "\n",
    "    # Mostrar el gráfico\n",
    "    plt.show()\n",
    "\n",
    "graficazo()\n"
   ]
  },
  {
   "cell_type": "code",
   "execution_count": 4,
   "metadata": {},
   "outputs": [
    {
     "ename": "AttributeError",
     "evalue": "module 'matplotlib' has no attribute 'subplots'",
     "output_type": "error",
     "traceback": [
      "\u001b[0;31m---------------------------------------------------------------------------\u001b[0m",
      "\u001b[0;31mAttributeError\u001b[0m                            Traceback (most recent call last)",
      "\u001b[1;32m/Users/joaquin/Developer/AudioAlchemy/st/test.ipynb Celda 4\u001b[0m line \u001b[0;36m7\n\u001b[1;32m      <a href='vscode-notebook-cell:/Users/joaquin/Developer/AudioAlchemy/st/test.ipynb#X14sZmlsZQ%3D%3D?line=3'>4</a>\u001b[0m top_10_sellos \u001b[39m=\u001b[39m df[\u001b[39m'\u001b[39m\u001b[39mlabel\u001b[39m\u001b[39m'\u001b[39m]\u001b[39m.\u001b[39mvalue_counts()\u001b[39m.\u001b[39mhead(\u001b[39m10\u001b[39m)\n\u001b[1;32m      <a href='vscode-notebook-cell:/Users/joaquin/Developer/AudioAlchemy/st/test.ipynb#X14sZmlsZQ%3D%3D?line=5'>6</a>\u001b[0m \u001b[39m# Crear figura y ejes para el gráfico\u001b[39;00m\n\u001b[0;32m----> <a href='vscode-notebook-cell:/Users/joaquin/Developer/AudioAlchemy/st/test.ipynb#X14sZmlsZQ%3D%3D?line=6'>7</a>\u001b[0m fig, ax \u001b[39m=\u001b[39m plt\u001b[39m.\u001b[39;49msubplots(figsize\u001b[39m=\u001b[39m(\u001b[39m10\u001b[39m, \u001b[39m6\u001b[39m))\n\u001b[1;32m      <a href='vscode-notebook-cell:/Users/joaquin/Developer/AudioAlchemy/st/test.ipynb#X14sZmlsZQ%3D%3D?line=8'>9</a>\u001b[0m \u001b[39m# Calcular el rango de valores para el eje y\u001b[39;00m\n\u001b[1;32m     <a href='vscode-notebook-cell:/Users/joaquin/Developer/AudioAlchemy/st/test.ipynb#X14sZmlsZQ%3D%3D?line=9'>10</a>\u001b[0m y_values \u001b[39m=\u001b[39m \u001b[39mrange\u001b[39m(\u001b[39m10\u001b[39m)\n",
      "File \u001b[0;32m/Library/Frameworks/Python.framework/Versions/3.12/lib/python3.12/site-packages/matplotlib/_api/__init__.py:217\u001b[0m, in \u001b[0;36mcaching_module_getattr.<locals>.__getattr__\u001b[0;34m(name)\u001b[0m\n\u001b[1;32m    215\u001b[0m \u001b[39mif\u001b[39;00m name \u001b[39min\u001b[39;00m props:\n\u001b[1;32m    216\u001b[0m     \u001b[39mreturn\u001b[39;00m props[name]\u001b[39m.\u001b[39m\u001b[39m__get__\u001b[39m(instance)\n\u001b[0;32m--> 217\u001b[0m \u001b[39mraise\u001b[39;00m \u001b[39mAttributeError\u001b[39;00m(\n\u001b[1;32m    218\u001b[0m     \u001b[39mf\u001b[39m\u001b[39m\"\u001b[39m\u001b[39mmodule \u001b[39m\u001b[39m{\u001b[39;00m\u001b[39mcls\u001b[39m\u001b[39m.\u001b[39m\u001b[39m__module__\u001b[39m\u001b[39m!r}\u001b[39;00m\u001b[39m has no attribute \u001b[39m\u001b[39m{\u001b[39;00mname\u001b[39m!r}\u001b[39;00m\u001b[39m\"\u001b[39m)\n",
      "\u001b[0;31mAttributeError\u001b[0m: module 'matplotlib' has no attribute 'subplots'"
     ]
    }
   ],
   "source": [
    "# Obtener los 10 artistas y sellos discográficos más frecuentes\n",
    "conteo_artistas = df['artist'].value_counts().head(11)\n",
    "top_10_artistas = conteo_artistas[1:]\n",
    "top_10_sellos = df['label'].value_counts().head(10)\n",
    "\n",
    "# Crear figura y ejes para el gráfico\n",
    "fig, ax = plt.subplots(figsize=(10, 6))\n",
    "\n",
    "# Calcular el rango de valores para el eje y\n",
    "y_values = range(10)\n",
    "\n",
    "# Escalar los valores para el eje x proporcionalmente\n",
    "max_value = max(top_10_artistas.values.max(), top_10_sellos.values.max())\n",
    "scaled_artistas = top_10_artistas.values * max_value / top_10_artistas.values.max()\n",
    "scaled_sellos = top_10_sellos.values * max_value / top_10_sellos.values.max()\n",
    "\n",
    "# Graficar las barras de los artistas hacia la derecha\n",
    "bars_artistas = ax.barh(y_values, scaled_artistas, color='skyblue', align='center', label='Top 10 Artistas')\n",
    "\n",
    "# Graficar las barras de los sellos hacia la izquierda (negativo)\n",
    "bars_sellos = ax.barh(y_values, -scaled_sellos, color='orange', align='center', label='Top 10 Sellos Discográficos')\n",
    "\n",
    "# Configuración de etiquetas y título\n",
    "ax.set_yticks(y_values)\n",
    "ax.set_yticklabels(top_10_artistas.index)\n",
    "ax.set_xlabel('Frecuencia (escala proporcional)')\n",
    "ax.set_title('Top 10 Artistas y Sellos Discográficos más Frecuentes')\n",
    "\n",
    "# Ocultar el eje x\n",
    "ax.xaxis.set_visible(False)\n",
    "ax.yaxis.set_visible(False)\n",
    "\n",
    "# Mostrar el nombre del artista y el recuento en las barras de artistas\n",
    "for i, bar in enumerate(bars_artistas):\n",
    "    ax.text(bar.get_width(), bar.get_y() + bar.get_height() / 2, \n",
    "            f'{top_10_artistas.index[i]} ({top_10_artistas.values[i]})', \n",
    "            va='center', ha='left', color='black', fontsize=8)\n",
    "\n",
    "# Mostrar el nombre del sello discográfico en las barras de sellos\n",
    "for i, bar in enumerate(bars_sellos):\n",
    "    ax.text(bar.get_width(), bar.get_y() + bar.get_height() / 2, \n",
    "            f'{top_10_sellos.index[i]} ({top_10_sellos.values[i]})', \n",
    "            va='center', ha='right', color='black', fontsize=8)\n",
    "\n",
    "# Mostrar el gráfico\n",
    "plt.show()"
   ]
  }
 ],
 "metadata": {
  "kernelspec": {
   "display_name": "Python 3",
   "language": "python",
   "name": "python3"
  },
  "language_info": {
   "codemirror_mode": {
    "name": "ipython",
    "version": 3
   },
   "file_extension": ".py",
   "mimetype": "text/x-python",
   "name": "python",
   "nbconvert_exporter": "python",
   "pygments_lexer": "ipython3",
   "version": "3.12.0"
  }
 },
 "nbformat": 4,
 "nbformat_minor": 2
}
